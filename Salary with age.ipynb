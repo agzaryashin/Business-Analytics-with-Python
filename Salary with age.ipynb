{
 "cells": [
  {
   "cell_type": "code",
   "execution_count": 2,
   "id": "7974d981",
   "metadata": {},
   "outputs": [
    {
     "data": {
      "text/html": [
       "<div>\n",
       "<style scoped>\n",
       "    .dataframe tbody tr th:only-of-type {\n",
       "        vertical-align: middle;\n",
       "    }\n",
       "\n",
       "    .dataframe tbody tr th {\n",
       "        vertical-align: top;\n",
       "    }\n",
       "\n",
       "    .dataframe thead th {\n",
       "        text-align: right;\n",
       "    }\n",
       "</style>\n",
       "<table border=\"1\" class=\"dataframe\">\n",
       "  <thead>\n",
       "    <tr style=\"text-align: right;\">\n",
       "      <th></th>\n",
       "      <th>Salary</th>\n",
       "      <th>Age</th>\n",
       "    </tr>\n",
       "  </thead>\n",
       "  <tbody>\n",
       "    <tr>\n",
       "      <th>0</th>\n",
       "      <td>800000</td>\n",
       "      <td>50</td>\n",
       "    </tr>\n",
       "  </tbody>\n",
       "</table>\n",
       "</div>"
      ],
      "text/plain": [
       "   Salary  Age\n",
       "0  800000   50"
      ]
     },
     "execution_count": 2,
     "metadata": {},
     "output_type": "execute_result"
    }
   ],
   "source": [
    "\n",
    "import pandas as pd\n",
    "df=pd.read_excel(\"Yashin.xlsx\")\n",
    "df\n"
   ]
  },
  {
   "cell_type": "code",
   "execution_count": 9,
   "id": "3de3ef3b",
   "metadata": {},
   "outputs": [
    {
     "name": "stdout",
     "output_type": "stream",
     "text": [
      "Tax 160000.0\n"
     ]
    }
   ],
   "source": [
    "x=df.loc[0,\"Salary\"]\n",
    "a=df.loc[0,\"Age\"]\n",
    "\n",
    "if x<=250000 and a<=60:\n",
    "    y=0\n",
    "if x>250000 and x<=500000 and a<=60:\n",
    "    y=x*10/100\n",
    "if x>500000 and x<=1000000 and a<=60:\n",
    "    y=x*20/100\n",
    "if x>1000000 and a<=60:\n",
    "    y=x*30/100\n",
    "if x<=300000 and a>60 and a<=80:\n",
    "    y=0\n",
    "if x>300000 and x<=500000 and a>60 and a<=80:\n",
    "    y=x*10/100\n",
    "if x>500000 and x<=1000000 and a>60 and a<=80:\n",
    "    y=x*20/100\n",
    "if x>1000000 and a>60 and a<=80:\n",
    "    y=x*30/100\n",
    "if x<=500000 and a>80:\n",
    "    y=0\n",
    "if x>500000 and x<=1000000 and a>80:\n",
    "   y=x*20/100\n",
    "if x>1000000 and a>80 and a<=100:\n",
    "    y=x*30/100\n",
    "print(\"Tax\",y)"
   ]
  },
  {
   "cell_type": "code",
   "execution_count": null,
   "id": "349e0334",
   "metadata": {},
   "outputs": [],
   "source": []
  }
 ],
 "metadata": {
  "kernelspec": {
   "display_name": "Python 3",
   "language": "python",
   "name": "python3"
  },
  "language_info": {
   "codemirror_mode": {
    "name": "ipython",
    "version": 3
   },
   "file_extension": ".py",
   "mimetype": "text/x-python",
   "name": "python",
   "nbconvert_exporter": "python",
   "pygments_lexer": "ipython3",
   "version": "3.8.8"
  }
 },
 "nbformat": 4,
 "nbformat_minor": 5
}
